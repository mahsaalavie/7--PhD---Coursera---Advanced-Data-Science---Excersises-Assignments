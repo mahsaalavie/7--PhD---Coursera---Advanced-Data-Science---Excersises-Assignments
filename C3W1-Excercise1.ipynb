{
    "cells": [
        {
            "metadata": {},
            "cell_type": "code",
            "source": "# Situation1:\n#rdd=sc.parallelize(range(100))\nList1= range(100)\nList2=  [101] + List1\nrdd = sc.parallelize([101] + range(100) + [102,103,1000,10000])",
            "execution_count": null,
            "outputs": []
        },
        {
            "metadata": {},
            "cell_type": "code",
            "source": "# Situation1:\n#rdd.collect()\n#rdd.SortBy(lambda x : x).collect()\n# Situation2:the below code let each of the number in the list to have an index (considering the first element of each peer is the value/number and the second is the index; as (number, index))\n#rdd.SortBy(lambda x : x).zipWithIndex().collect()\n# the code below will not only add an index to each of the number but also change their possitions for each peers; as (index, number)\nsortedAndIndexed = rdd.SortBy(lambda x : x).zipWithIndex().map(lambda (value,key): (key,value))\nn = sortedAndIndexed.count()\nif (n % 2 == 1)\n    print \"odd case\"\n    index=(n-1)/2\n    print sortedAndIndexed.lookup(index)\nelse:\n     print \"even case\"\n    index1=(n/2)-1\n    index2=n/2\n    #the following codes have outcomes as lists\n    #Value1=sortedAndIndexed.lookup(index1)\n    #Value2=sortedAndIndexed.lookup(index2)\n    #the following codes have outcomes as numbers(geting ride of lists)\n    Value1=sortedAndIndexed.lookup(index1)[0]\n    Value2=sortedAndIndexed.lookup(index2)[0]\n    print value1\n    print value2\n    median = (value1 + value2)/2\n    print median\n   ",
            "execution_count": null,
            "outputs": []
        },
        {
            "metadata": {},
            "cell_type": "code",
            "source": "sum=rdd.sum()\nn=rdd.count()\nmean=sum/n\n# if we print mean variable it sould be \"49\" beacause the precision was lost through an implicit cast to int\nprint (mean)\n",
            "execution_count": null,
            "outputs": []
        },
        {
            "metadata": {},
            "cell_type": "code",
            "source": "mean=sum/float(n)\n# Now what we will see after running the next line is that the precision has remained\nprint(mean)",
            "execution_count": null,
            "outputs": []
        },
        {
            "metadata": {},
            "cell_type": "code",
            "source": "",
            "execution_count": null,
            "outputs": []
        }
    ],
    "metadata": {
        "kernelspec": {
            "name": "python36",
            "display_name": "Python 3.6 with Spark",
            "language": "python3"
        },
        "language_info": {
            "mimetype": "text/x-python",
            "nbconvert_exporter": "python",
            "name": "python",
            "pygments_lexer": "ipython3",
            "version": "3.6.8",
            "file_extension": ".py",
            "codemirror_mode": {
                "version": 3,
                "name": "ipython"
            }
        }
    },
    "nbformat": 4,
    "nbformat_minor": 1
}