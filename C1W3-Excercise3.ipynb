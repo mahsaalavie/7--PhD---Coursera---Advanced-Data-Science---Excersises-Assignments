{
    "cells": [
        {
            "metadata": {},
            "cell_type": "code",
            "source": "\n   ",
            "execution_count": null,
            "outputs": []
        },
        {
            "metadata": {},
            "cell_type": "code",
            "source": "# Situation1:\n#rdd=sc.parallelize(range(100))\n# Situation2: take a random list of ten thousands times of number (1000) elements\n#rdd = sc.parallelize(range(100)+[1000]*[10000])\n# Situation2: take a random list of ten thousands times of number minous (-1000) elements\nrdd = sc.parallelize(range(100)+[-1000]*[10000])",
            "execution_count": null,
            "outputs": []
        },
        {
            "metadata": {},
            "cell_type": "code",
            "source": "sum=rdd.sum()\nn=rdd.count()\nmean=sum/n\n# if we print mean variable it sould be \"49\" beacause the precision was lost through an implicit cast to int\nprint (mean)\n",
            "execution_count": null,
            "outputs": []
        },
        {
            "metadata": {},
            "cell_type": "code",
            "source": "mean=sum/float(n)\n# Now what we will see after running the next line is that the precision has remained\nprint(mean)",
            "execution_count": null,
            "outputs": []
        },
        {
            "metadata": {},
            "cell_type": "code",
            "source": "# first we should define a function for doing the Standard deviation calculations for each entry of a list\nfrom math import sqrt\n#then define and implement the standard deviation formula in the function\nsd = sqrt (rdd.map(lambda x : pow(x - mean , 2)).sum() / n)\nsd",
            "execution_count": null,
            "outputs": []
        },
        {
            "metadata": {},
            "cell_type": "code",
            "source": "n= float(n)\nskewness = n / ((n-1) * (n-2)) * rdd.map(lambda x : pow(x - mean , 3) / pow(sd,3)).sum()\nskewness",
            "execution_count": null,
            "outputs": []
        },
        {
            "metadata": {},
            "cell_type": "code",
            "source": "",
            "execution_count": null,
            "outputs": []
        }
    ],
    "metadata": {
        "kernelspec": {
            "name": "python36",
            "display_name": "Python 3.6 with Spark",
            "language": "python3"
        },
        "language_info": {
            "mimetype": "text/x-python",
            "nbconvert_exporter": "python",
            "name": "python",
            "pygments_lexer": "ipython3",
            "version": "3.6.8",
            "file_extension": ".py",
            "codemirror_mode": {
                "version": 3,
                "name": "ipython"
            }
        }
    },
    "nbformat": 4,
    "nbformat_minor": 1
}