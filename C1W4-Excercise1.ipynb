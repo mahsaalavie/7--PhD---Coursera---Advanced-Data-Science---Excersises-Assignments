{
    "cells": [
        {
            "metadata": {
                "collapsed": true
            },
            "cell_type": "code",
            "source": "##boxplot\nresult = spark.sql(\"select voltage from washing flat where voltage is not null\")\nresult.collect()\nresult_array = result.rdd.map(lambda row : row.voltage).sample(False,0.1).collect()\nprint(result_array)",
            "execution_count": null,
            "outputs": []
        },
        {
            "metadata": {},
            "cell_type": "code",
            "source": "%matplotlib inline",
            "execution_count": null,
            "outputs": []
        },
        {
            "metadata": {},
            "cell_type": "code",
            "source": "import matplotlib.pyplot as plt\nplt.boxplot(result_array)\nplt.show()",
            "execution_count": null,
            "outputs": []
        },
        {
            "metadata": {},
            "cell_type": "code",
            "source": "##Run_chart\nresult = spark.sql(\"select voltage,ts from washing flat where voltage is not nullorder by tsasc\")\nresult.collect()\n#result_array = result.rdd.sample(False,0.1).map(lambda row :(row.ts,row.voltage)).collect()\nresult_rdd = result.rdd.sample(False,0.1).map(lambda row :(row.ts,row.voltage))\nresult_array_timestamps = result_rdd.map(lambda (ts,voltage) : ts).collect()\nresult_array_voltage = result_rdd.map(lambda (ts,voltage) : voltage).collect()\nprint (result_array_timestamps)\nprint (result_array_voltage)",
            "execution_count": null,
            "outputs": []
        },
        {
            "metadata": {},
            "cell_type": "code",
            "source": "plt.plot(result_array_timestamps , result_array_voltage)\nplt.xlable(\"time\")\nplt.ylable(\"voltage\")\nplt.show()",
            "execution_count": null,
            "outputs": []
        },
        {
            "metadata": {},
            "cell_type": "code",
            "source": "##Scatter_plot(flowrate,hardness,temperature are the columns selected for the chart)\nresult_df = spark.sql(\"select hardness,temperature,flowrate from washing flat where hardness is not null and temperature is not null and flowrate is not null\")\nresult.collect()\n#result_array = result.rdd.sample(False,0.1).map(lambda row :(row.ts,row.voltage)).collect()\nresult_rdd = result_df.rdd.sample(False,0.1).map(lambda row :(row.hardness,row.temperature, row.flowrate))\nresult_array_hardness = result_rdd.map(lambda (hardness,temperature,flowrate) : hardness).collect()\nresult_array_temperature = result_rdd.map(lambda (hardness,temperature,flowrate) : temperature).collect()\nresult_array_flowrate = result_rdd.map(lambda (hardness,temperature,flowrate) : flowrate).collect()",
            "execution_count": null,
            "outputs": []
        },
        {
            "metadata": {},
            "cell_type": "code",
            "source": "from mpl_toolkits.mplot3d import Axes3D\nfig = plt.figure()\nax = fig.add_subplot(111, projection ='3d')\n\nax.scatter(result_array_hardness,result_array_temperature,result_array_flowrate , c = 'r' , marker = 'o')\n\nax.set_xlable('hardness')\nax.set_ylable('temperature')\nax.set_zlable('flowrate')\n\nplt.show()\n",
            "execution_count": null,
            "outputs": []
        },
        {
            "metadata": {},
            "cell_type": "code",
            "source": "##Histogram\nplt.hist(result_array_hardness)\nplt.show()\n\nplt.hist(result_array_temperature)\nplt.show()\n\nplt.hist(result_array_flowrate)\nplt.show()",
            "execution_count": null,
            "outputs": []
        }
    ],
    "metadata": {
        "kernelspec": {
            "name": "python36",
            "display_name": "Python 3.6 with Spark",
            "language": "python3"
        },
        "language_info": {
            "mimetype": "text/x-python",
            "nbconvert_exporter": "python",
            "name": "python",
            "pygments_lexer": "ipython3",
            "version": "3.6.8",
            "file_extension": ".py",
            "codemirror_mode": {
                "version": 3,
                "name": "ipython"
            }
        }
    },
    "nbformat": 4,
    "nbformat_minor": 1
}